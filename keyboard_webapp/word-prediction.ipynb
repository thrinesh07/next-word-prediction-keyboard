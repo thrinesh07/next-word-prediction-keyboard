{
 "cells": [
  {
   "cell_type": "code",
   "execution_count": 1,
   "id": "2293b6ac",
   "metadata": {
    "_cell_guid": "b1076dfc-b9ad-4769-8c92-a6c4dae69d19",
    "_uuid": "8f2839f25d086af736a60e9eeb907d3b93b6e0e5",
    "execution": {
     "iopub.execute_input": "2025-09-25T15:37:35.185320Z",
     "iopub.status.busy": "2025-09-25T15:37:35.184814Z",
     "iopub.status.idle": "2025-09-25T15:37:36.637550Z",
     "shell.execute_reply": "2025-09-25T15:37:36.636690Z"
    },
    "papermill": {
     "duration": 1.457475,
     "end_time": "2025-09-25T15:37:36.639288",
     "exception": false,
     "start_time": "2025-09-25T15:37:35.181813",
     "status": "completed"
    },
    "tags": []
   },
   "outputs": [],
   "source": [
    "# This Python 3 environment comes with many helpful analytics libraries installed\n",
    "# It is defined by the kaggle/python Docker image: https://github.com/kaggle/docker-python\n",
    "# For example, here's several helpful packages to load\n",
    "\n",
    "import numpy as np # linear algebra\n",
    "import pandas as pd # data processing, CSV file I/O (e.g. pd.read_csv)\n",
    "\n",
    "# Input data files are available in the read-only \"../input/\" directory\n",
    "# For example, running this (by clicking run or pressing Shift+Enter) will list all files under the input directory\n",
    "\n",
    "import os\n",
    "for dirname, _, filenames in os.walk('/kaggle/input'):\n",
    "    for filename in filenames:\n",
    "        print(os.path.join(dirname, filename))\n",
    "\n",
    "# You can write up to 20GB to the current directory (/kaggle/working/) that gets preserved as output when you create a version using \"Save & Run All\" \n",
    "# You can also write temporary files to /kaggle/temp/, but they won't be saved outside of the current session"
   ]
  },
  {
   "cell_type": "code",
   "execution_count": 2,
   "id": "e441e642",
   "metadata": {
    "execution": {
     "iopub.execute_input": "2025-09-25T15:37:36.647466Z",
     "iopub.status.busy": "2025-09-25T15:37:36.647014Z",
     "iopub.status.idle": "2025-09-25T15:37:49.930525Z",
     "shell.execute_reply": "2025-09-25T15:37:49.929670Z"
    },
    "papermill": {
     "duration": 13.289485,
     "end_time": "2025-09-25T15:37:49.931787",
     "exception": false,
     "start_time": "2025-09-25T15:37:36.642302",
     "status": "completed"
    },
    "tags": []
   },
   "outputs": [
    {
     "name": "stderr",
     "output_type": "stream",
     "text": [
      "2025-09-25 15:37:38.352904: E external/local_xla/xla/stream_executor/cuda/cuda_fft.cc:477] Unable to register cuFFT factory: Attempting to register factory for plugin cuFFT when one has already been registered\n",
      "WARNING: All log messages before absl::InitializeLog() is called are written to STDERR\n",
      "E0000 00:00:1758814658.546403      19 cuda_dnn.cc:8310] Unable to register cuDNN factory: Attempting to register factory for plugin cuDNN when one has already been registered\n",
      "E0000 00:00:1758814658.600052      19 cuda_blas.cc:1418] Unable to register cuBLAS factory: Attempting to register factory for plugin cuBLAS when one has already been registered\n"
     ]
    },
    {
     "name": "stdout",
     "output_type": "stream",
     "text": [
      "Total characters:  1115394\n"
     ]
    }
   ],
   "source": [
    "import pandas as pd\n",
    "import requests\n",
    "import pickle\n",
    "import tensorflow as tf\n",
    "import random \n",
    "import numpy as np\n",
    "\n",
    "tf.random.set_seed(42)\n",
    "np.random.seed(42)\n",
    "random.seed(42)\n",
    "os.environ['PYTHONHASHSEED'] = '42'\n",
    "\n",
    "url='https://raw.githubusercontent.com/karpathy/char-rnn/master/data/tinyshakespeare/input.txt'\n",
    "text=requests.get(url).text.lower()\n",
    "print(\"Total characters: \",len(text))"
   ]
  },
  {
   "cell_type": "code",
   "execution_count": 3,
   "id": "7dc86963",
   "metadata": {
    "execution": {
     "iopub.execute_input": "2025-09-25T15:37:49.936670Z",
     "iopub.status.busy": "2025-09-25T15:37:49.936332Z",
     "iopub.status.idle": "2025-09-25T15:37:50.941335Z",
     "shell.execute_reply": "2025-09-25T15:37:50.940422Z"
    },
    "papermill": {
     "duration": 1.009031,
     "end_time": "2025-09-25T15:37:50.942874",
     "exception": false,
     "start_time": "2025-09-25T15:37:49.933843",
     "status": "completed"
    },
    "tags": []
   },
   "outputs": [
    {
     "name": "stdout",
     "output_type": "stream",
     "text": [
      "Total unique words: 12633\n"
     ]
    }
   ],
   "source": [
    "from tensorflow.keras.preprocessing.text import Tokenizer\n",
    "tokenizer = Tokenizer()\n",
    "tokenizer.fit_on_texts(text.split())  \n",
    "total_words = len(tokenizer.word_index) + 1\n",
    "print(\"Total unique words:\", total_words)\n",
    "\n",
    "with open(\"tokenizer.pkl\", \"wb\") as f:\n",
    "    pickle.dump(tokenizer, f)\n",
    "\n",
    "\n",
    "index_to_word = {index: word for word, index in tokenizer.word_index.items()}\n",
    "with open(\"index_to_word.pkl\", \"wb\") as f:\n",
    "    pickle.dump(index_to_word, f)"
   ]
  },
  {
   "cell_type": "code",
   "execution_count": 4,
   "id": "a9e99df3",
   "metadata": {
    "execution": {
     "iopub.execute_input": "2025-09-25T15:37:50.949996Z",
     "iopub.status.busy": "2025-09-25T15:37:50.949527Z",
     "iopub.status.idle": "2025-09-25T15:37:51.565551Z",
     "shell.execute_reply": "2025-09-25T15:37:51.564939Z"
    },
    "papermill": {
     "duration": 0.620559,
     "end_time": "2025-09-25T15:37:51.566875",
     "exception": false,
     "start_time": "2025-09-25T15:37:50.946316",
     "status": "completed"
    },
    "tags": []
   },
   "outputs": [],
   "source": [
    "from tensorflow.keras.preprocessing.sequence import pad_sequences\n",
    "input_sequences=[]\n",
    "for line in text.split('\\n'):\n",
    "    token_list=tokenizer.texts_to_sequences([line])[0]\n",
    "    for i in range(1,len(token_list)):\n",
    "        n_gram_seq=token_list[:i+1]\n",
    "        input_sequences.append(n_gram_seq)"
   ]
  },
  {
   "cell_type": "code",
   "execution_count": 5,
   "id": "46265179",
   "metadata": {
    "execution": {
     "iopub.execute_input": "2025-09-25T15:37:51.572023Z",
     "iopub.status.busy": "2025-09-25T15:37:51.571555Z",
     "iopub.status.idle": "2025-09-25T15:37:52.378542Z",
     "shell.execute_reply": "2025-09-25T15:37:52.377609Z"
    },
    "papermill": {
     "duration": 0.810733,
     "end_time": "2025-09-25T15:37:52.379809",
     "exception": false,
     "start_time": "2025-09-25T15:37:51.569076",
     "status": "completed"
    },
    "tags": []
   },
   "outputs": [
    {
     "name": "stdout",
     "output_type": "stream",
     "text": [
      "[[   0    0    0 ...    0   88  269]\n",
      " [   0    0    0 ...    0  139   35]\n",
      " [   0    0    0 ...  139   35  969]\n",
      " ...\n",
      " [   0    0    0 ...    0 1062   25]\n",
      " [   0    0    0 ... 1062   25  131]\n",
      " [   0    0    0 ...   25  131 1828]]\n",
      "Training smaples : (171312, 15)\n"
     ]
    }
   ],
   "source": [
    "max_seq_len=max(len(seq) for seq in input_sequences)\n",
    "input_sequences=pad_sequences(input_sequences,maxlen=max_seq_len,padding='pre')\n",
    "\n",
    "print(input_sequences)\n",
    "\n",
    "X,y=input_sequences[:,:-1],input_sequences[:,-1]\n",
    "# X → all words except the last one (input).\n",
    "# y → last word (label/output).\n",
    "# to_categorical → one-hot encode labels for classification.\n",
    "import tensorflow as tf\n",
    "y = tf.keras.utils.to_categorical(y, num_classes=total_words)\n",
    "\n",
    "print(\"Training smaples :\",X.shape)"
   ]
  },
  {
   "cell_type": "code",
   "execution_count": 6,
   "id": "6afa4ed4",
   "metadata": {
    "execution": {
     "iopub.execute_input": "2025-09-25T15:37:52.385337Z",
     "iopub.status.busy": "2025-09-25T15:37:52.384868Z",
     "iopub.status.idle": "2025-09-25T16:36:13.807251Z",
     "shell.execute_reply": "2025-09-25T16:36:13.806453Z"
    },
    "papermill": {
     "duration": 3501.426279,
     "end_time": "2025-09-25T16:36:13.808456",
     "exception": false,
     "start_time": "2025-09-25T15:37:52.382177",
     "status": "completed"
    },
    "tags": []
   },
   "outputs": [
    {
     "name": "stderr",
     "output_type": "stream",
     "text": [
      "/usr/local/lib/python3.11/dist-packages/keras/src/layers/core/embedding.py:90: UserWarning: Argument `input_length` is deprecated. Just remove it.\n",
      "  warnings.warn(\n",
      "I0000 00:00:1758814673.434260      19 gpu_device.cc:2022] Created device /job:localhost/replica:0/task:0/device:GPU:0 with 13942 MB memory:  -> device: 0, name: Tesla T4, pci bus id: 0000:00:04.0, compute capability: 7.5\n",
      "I0000 00:00:1758814673.434928      19 gpu_device.cc:2022] Created device /job:localhost/replica:0/task:0/device:GPU:1 with 13942 MB memory:  -> device: 1, name: Tesla T4, pci bus id: 0000:00:05.0, compute capability: 7.5\n"
     ]
    },
    {
     "data": {
      "text/html": [
       "<pre style=\"white-space:pre;overflow-x:auto;line-height:normal;font-family:Menlo,'DejaVu Sans Mono',consolas,'Courier New',monospace\"><span style=\"font-weight: bold\">Model: \"sequential\"</span>\n",
       "</pre>\n"
      ],
      "text/plain": [
       "\u001b[1mModel: \"sequential\"\u001b[0m\n"
      ]
     },
     "metadata": {},
     "output_type": "display_data"
    },
    {
     "data": {
      "text/html": [
       "<pre style=\"white-space:pre;overflow-x:auto;line-height:normal;font-family:Menlo,'DejaVu Sans Mono',consolas,'Courier New',monospace\">┏━━━━━━━━━━━━━━━━━━━━━━━━━━━━━━━━━┳━━━━━━━━━━━━━━━━━━━━━━━━┳━━━━━━━━━━━━━━━┓\n",
       "┃<span style=\"font-weight: bold\"> Layer (type)                    </span>┃<span style=\"font-weight: bold\"> Output Shape           </span>┃<span style=\"font-weight: bold\">       Param # </span>┃\n",
       "┡━━━━━━━━━━━━━━━━━━━━━━━━━━━━━━━━━╇━━━━━━━━━━━━━━━━━━━━━━━━╇━━━━━━━━━━━━━━━┩\n",
       "│ embedding (<span style=\"color: #0087ff; text-decoration-color: #0087ff\">Embedding</span>)           │ ?                      │   <span style=\"color: #00af00; text-decoration-color: #00af00\">0</span> (unbuilt) │\n",
       "├─────────────────────────────────┼────────────────────────┼───────────────┤\n",
       "│ lstm (<span style=\"color: #0087ff; text-decoration-color: #0087ff\">LSTM</span>)                     │ ?                      │   <span style=\"color: #00af00; text-decoration-color: #00af00\">0</span> (unbuilt) │\n",
       "├─────────────────────────────────┼────────────────────────┼───────────────┤\n",
       "│ dropout (<span style=\"color: #0087ff; text-decoration-color: #0087ff\">Dropout</span>)               │ ?                      │             <span style=\"color: #00af00; text-decoration-color: #00af00\">0</span> │\n",
       "├─────────────────────────────────┼────────────────────────┼───────────────┤\n",
       "│ lstm_1 (<span style=\"color: #0087ff; text-decoration-color: #0087ff\">LSTM</span>)                   │ ?                      │   <span style=\"color: #00af00; text-decoration-color: #00af00\">0</span> (unbuilt) │\n",
       "├─────────────────────────────────┼────────────────────────┼───────────────┤\n",
       "│ dropout_1 (<span style=\"color: #0087ff; text-decoration-color: #0087ff\">Dropout</span>)             │ ?                      │             <span style=\"color: #00af00; text-decoration-color: #00af00\">0</span> │\n",
       "├─────────────────────────────────┼────────────────────────┼───────────────┤\n",
       "│ dense (<span style=\"color: #0087ff; text-decoration-color: #0087ff\">Dense</span>)                   │ ?                      │   <span style=\"color: #00af00; text-decoration-color: #00af00\">0</span> (unbuilt) │\n",
       "├─────────────────────────────────┼────────────────────────┼───────────────┤\n",
       "│ dropout_2 (<span style=\"color: #0087ff; text-decoration-color: #0087ff\">Dropout</span>)             │ ?                      │             <span style=\"color: #00af00; text-decoration-color: #00af00\">0</span> │\n",
       "├─────────────────────────────────┼────────────────────────┼───────────────┤\n",
       "│ dense_1 (<span style=\"color: #0087ff; text-decoration-color: #0087ff\">Dense</span>)                 │ ?                      │   <span style=\"color: #00af00; text-decoration-color: #00af00\">0</span> (unbuilt) │\n",
       "└─────────────────────────────────┴────────────────────────┴───────────────┘\n",
       "</pre>\n"
      ],
      "text/plain": [
       "┏━━━━━━━━━━━━━━━━━━━━━━━━━━━━━━━━━┳━━━━━━━━━━━━━━━━━━━━━━━━┳━━━━━━━━━━━━━━━┓\n",
       "┃\u001b[1m \u001b[0m\u001b[1mLayer (type)                   \u001b[0m\u001b[1m \u001b[0m┃\u001b[1m \u001b[0m\u001b[1mOutput Shape          \u001b[0m\u001b[1m \u001b[0m┃\u001b[1m \u001b[0m\u001b[1m      Param #\u001b[0m\u001b[1m \u001b[0m┃\n",
       "┡━━━━━━━━━━━━━━━━━━━━━━━━━━━━━━━━━╇━━━━━━━━━━━━━━━━━━━━━━━━╇━━━━━━━━━━━━━━━┩\n",
       "│ embedding (\u001b[38;5;33mEmbedding\u001b[0m)           │ ?                      │   \u001b[38;5;34m0\u001b[0m (unbuilt) │\n",
       "├─────────────────────────────────┼────────────────────────┼───────────────┤\n",
       "│ lstm (\u001b[38;5;33mLSTM\u001b[0m)                     │ ?                      │   \u001b[38;5;34m0\u001b[0m (unbuilt) │\n",
       "├─────────────────────────────────┼────────────────────────┼───────────────┤\n",
       "│ dropout (\u001b[38;5;33mDropout\u001b[0m)               │ ?                      │             \u001b[38;5;34m0\u001b[0m │\n",
       "├─────────────────────────────────┼────────────────────────┼───────────────┤\n",
       "│ lstm_1 (\u001b[38;5;33mLSTM\u001b[0m)                   │ ?                      │   \u001b[38;5;34m0\u001b[0m (unbuilt) │\n",
       "├─────────────────────────────────┼────────────────────────┼───────────────┤\n",
       "│ dropout_1 (\u001b[38;5;33mDropout\u001b[0m)             │ ?                      │             \u001b[38;5;34m0\u001b[0m │\n",
       "├─────────────────────────────────┼────────────────────────┼───────────────┤\n",
       "│ dense (\u001b[38;5;33mDense\u001b[0m)                   │ ?                      │   \u001b[38;5;34m0\u001b[0m (unbuilt) │\n",
       "├─────────────────────────────────┼────────────────────────┼───────────────┤\n",
       "│ dropout_2 (\u001b[38;5;33mDropout\u001b[0m)             │ ?                      │             \u001b[38;5;34m0\u001b[0m │\n",
       "├─────────────────────────────────┼────────────────────────┼───────────────┤\n",
       "│ dense_1 (\u001b[38;5;33mDense\u001b[0m)                 │ ?                      │   \u001b[38;5;34m0\u001b[0m (unbuilt) │\n",
       "└─────────────────────────────────┴────────────────────────┴───────────────┘\n"
      ]
     },
     "metadata": {},
     "output_type": "display_data"
    },
    {
     "data": {
      "text/html": [
       "<pre style=\"white-space:pre;overflow-x:auto;line-height:normal;font-family:Menlo,'DejaVu Sans Mono',consolas,'Courier New',monospace\"><span style=\"font-weight: bold\"> Total params: </span><span style=\"color: #00af00; text-decoration-color: #00af00\">0</span> (0.00 B)\n",
       "</pre>\n"
      ],
      "text/plain": [
       "\u001b[1m Total params: \u001b[0m\u001b[38;5;34m0\u001b[0m (0.00 B)\n"
      ]
     },
     "metadata": {},
     "output_type": "display_data"
    },
    {
     "data": {
      "text/html": [
       "<pre style=\"white-space:pre;overflow-x:auto;line-height:normal;font-family:Menlo,'DejaVu Sans Mono',consolas,'Courier New',monospace\"><span style=\"font-weight: bold\"> Trainable params: </span><span style=\"color: #00af00; text-decoration-color: #00af00\">0</span> (0.00 B)\n",
       "</pre>\n"
      ],
      "text/plain": [
       "\u001b[1m Trainable params: \u001b[0m\u001b[38;5;34m0\u001b[0m (0.00 B)\n"
      ]
     },
     "metadata": {},
     "output_type": "display_data"
    },
    {
     "data": {
      "text/html": [
       "<pre style=\"white-space:pre;overflow-x:auto;line-height:normal;font-family:Menlo,'DejaVu Sans Mono',consolas,'Courier New',monospace\"><span style=\"font-weight: bold\"> Non-trainable params: </span><span style=\"color: #00af00; text-decoration-color: #00af00\">0</span> (0.00 B)\n",
       "</pre>\n"
      ],
      "text/plain": [
       "\u001b[1m Non-trainable params: \u001b[0m\u001b[38;5;34m0\u001b[0m (0.00 B)\n"
      ]
     },
     "metadata": {},
     "output_type": "display_data"
    },
    {
     "name": "stdout",
     "output_type": "stream",
     "text": [
      "Epoch 1/100\n"
     ]
    },
    {
     "name": "stderr",
     "output_type": "stream",
     "text": [
      "I0000 00:00:1758814708.507878      62 cuda_dnn.cc:529] Loaded cuDNN version 90300\n"
     ]
    },
    {
     "name": "stdout",
     "output_type": "stream",
     "text": [
      "\u001b[1m2677/2677\u001b[0m \u001b[32m━━━━━━━━━━━━━━━━━━━━\u001b[0m\u001b[37m\u001b[0m \u001b[1m41s\u001b[0m 13ms/step - accuracy: 0.0319 - loss: 7.0213\n",
      "Epoch 2/100\n",
      "\u001b[1m2677/2677\u001b[0m \u001b[32m━━━━━━━━━━━━━━━━━━━━\u001b[0m\u001b[37m\u001b[0m \u001b[1m34s\u001b[0m 13ms/step - accuracy: 0.0487 - loss: 6.4684\n",
      "Epoch 3/100\n",
      "\u001b[1m2677/2677\u001b[0m \u001b[32m━━━━━━━━━━━━━━━━━━━━\u001b[0m\u001b[37m\u001b[0m \u001b[1m34s\u001b[0m 13ms/step - accuracy: 0.0654 - loss: 6.2126\n",
      "Epoch 4/100\n",
      "\u001b[1m2677/2677\u001b[0m \u001b[32m━━━━━━━━━━━━━━━━━━━━\u001b[0m\u001b[37m\u001b[0m \u001b[1m34s\u001b[0m 13ms/step - accuracy: 0.0771 - loss: 6.0363\n",
      "Epoch 5/100\n",
      "\u001b[1m2677/2677\u001b[0m \u001b[32m━━━━━━━━━━━━━━━━━━━━\u001b[0m\u001b[37m\u001b[0m \u001b[1m34s\u001b[0m 13ms/step - accuracy: 0.0838 - loss: 5.9040\n",
      "Epoch 6/100\n",
      "\u001b[1m2677/2677\u001b[0m \u001b[32m━━━━━━━━━━━━━━━━━━━━\u001b[0m\u001b[37m\u001b[0m \u001b[1m34s\u001b[0m 13ms/step - accuracy: 0.0893 - loss: 5.7935\n",
      "Epoch 7/100\n",
      "\u001b[1m2677/2677\u001b[0m \u001b[32m━━━━━━━━━━━━━━━━━━━━\u001b[0m\u001b[37m\u001b[0m \u001b[1m34s\u001b[0m 13ms/step - accuracy: 0.0931 - loss: 5.7017\n",
      "Epoch 8/100\n",
      "\u001b[1m2677/2677\u001b[0m \u001b[32m━━━━━━━━━━━━━━━━━━━━\u001b[0m\u001b[37m\u001b[0m \u001b[1m34s\u001b[0m 13ms/step - accuracy: 0.0960 - loss: 5.6109\n",
      "Epoch 9/100\n",
      "\u001b[1m2677/2677\u001b[0m \u001b[32m━━━━━━━━━━━━━━━━━━━━\u001b[0m\u001b[37m\u001b[0m \u001b[1m34s\u001b[0m 13ms/step - accuracy: 0.0999 - loss: 5.5417\n",
      "Epoch 10/100\n",
      "\u001b[1m2677/2677\u001b[0m \u001b[32m━━━━━━━━━━━━━━━━━━━━\u001b[0m\u001b[37m\u001b[0m \u001b[1m34s\u001b[0m 13ms/step - accuracy: 0.1014 - loss: 5.4728\n",
      "Epoch 11/100\n",
      "\u001b[1m2677/2677\u001b[0m \u001b[32m━━━━━━━━━━━━━━━━━━━━\u001b[0m\u001b[37m\u001b[0m \u001b[1m34s\u001b[0m 13ms/step - accuracy: 0.1043 - loss: 5.4169\n",
      "Epoch 12/100\n",
      "\u001b[1m2677/2677\u001b[0m \u001b[32m━━━━━━━━━━━━━━━━━━━━\u001b[0m\u001b[37m\u001b[0m \u001b[1m34s\u001b[0m 13ms/step - accuracy: 0.1072 - loss: 5.3570\n",
      "Epoch 13/100\n",
      "\u001b[1m2677/2677\u001b[0m \u001b[32m━━━━━━━━━━━━━━━━━━━━\u001b[0m\u001b[37m\u001b[0m \u001b[1m34s\u001b[0m 13ms/step - accuracy: 0.1085 - loss: 5.3117\n",
      "Epoch 14/100\n",
      "\u001b[1m2677/2677\u001b[0m \u001b[32m━━━━━━━━━━━━━━━━━━━━\u001b[0m\u001b[37m\u001b[0m \u001b[1m34s\u001b[0m 13ms/step - accuracy: 0.1108 - loss: 5.2637\n",
      "Epoch 15/100\n",
      "\u001b[1m2677/2677\u001b[0m \u001b[32m━━━━━━━━━━━━━━━━━━━━\u001b[0m\u001b[37m\u001b[0m \u001b[1m34s\u001b[0m 13ms/step - accuracy: 0.1120 - loss: 5.2359\n",
      "Epoch 16/100\n",
      "\u001b[1m2677/2677\u001b[0m \u001b[32m━━━━━━━━━━━━━━━━━━━━\u001b[0m\u001b[37m\u001b[0m \u001b[1m34s\u001b[0m 13ms/step - accuracy: 0.1145 - loss: 5.1902\n",
      "Epoch 17/100\n",
      "\u001b[1m2677/2677\u001b[0m \u001b[32m━━━━━━━━━━━━━━━━━━━━\u001b[0m\u001b[37m\u001b[0m \u001b[1m34s\u001b[0m 13ms/step - accuracy: 0.1168 - loss: 5.1559\n",
      "Epoch 18/100\n",
      "\u001b[1m2677/2677\u001b[0m \u001b[32m━━━━━━━━━━━━━━━━━━━━\u001b[0m\u001b[37m\u001b[0m \u001b[1m34s\u001b[0m 13ms/step - accuracy: 0.1183 - loss: 5.1173\n",
      "Epoch 19/100\n",
      "\u001b[1m2677/2677\u001b[0m \u001b[32m━━━━━━━━━━━━━━━━━━━━\u001b[0m\u001b[37m\u001b[0m \u001b[1m34s\u001b[0m 13ms/step - accuracy: 0.1190 - loss: 5.0850\n",
      "Epoch 20/100\n",
      "\u001b[1m2677/2677\u001b[0m \u001b[32m━━━━━━━━━━━━━━━━━━━━\u001b[0m\u001b[37m\u001b[0m \u001b[1m34s\u001b[0m 13ms/step - accuracy: 0.1202 - loss: 5.0578\n",
      "Epoch 21/100\n",
      "\u001b[1m2677/2677\u001b[0m \u001b[32m━━━━━━━━━━━━━━━━━━━━\u001b[0m\u001b[37m\u001b[0m \u001b[1m34s\u001b[0m 13ms/step - accuracy: 0.1217 - loss: 5.0201\n",
      "Epoch 22/100\n",
      "\u001b[1m2677/2677\u001b[0m \u001b[32m━━━━━━━━━━━━━━━━━━━━\u001b[0m\u001b[37m\u001b[0m \u001b[1m34s\u001b[0m 13ms/step - accuracy: 0.1238 - loss: 4.9981\n",
      "Epoch 23/100\n",
      "\u001b[1m2677/2677\u001b[0m \u001b[32m━━━━━━━━━━━━━━━━━━━━\u001b[0m\u001b[37m\u001b[0m \u001b[1m34s\u001b[0m 13ms/step - accuracy: 0.1274 - loss: 4.9630\n",
      "Epoch 24/100\n",
      "\u001b[1m2677/2677\u001b[0m \u001b[32m━━━━━━━━━━━━━━━━━━━━\u001b[0m\u001b[37m\u001b[0m \u001b[1m34s\u001b[0m 13ms/step - accuracy: 0.1279 - loss: 4.9385\n",
      "Epoch 25/100\n",
      "\u001b[1m2677/2677\u001b[0m \u001b[32m━━━━━━━━━━━━━━━━━━━━\u001b[0m\u001b[37m\u001b[0m \u001b[1m34s\u001b[0m 13ms/step - accuracy: 0.1282 - loss: 4.9585\n",
      "Epoch 26/100\n",
      "\u001b[1m2677/2677\u001b[0m \u001b[32m━━━━━━━━━━━━━━━━━━━━\u001b[0m\u001b[37m\u001b[0m \u001b[1m34s\u001b[0m 13ms/step - accuracy: 0.1314 - loss: 4.9075\n",
      "Epoch 27/100\n",
      "\u001b[1m2677/2677\u001b[0m \u001b[32m━━━━━━━━━━━━━━━━━━━━\u001b[0m\u001b[37m\u001b[0m \u001b[1m34s\u001b[0m 13ms/step - accuracy: 0.1317 - loss: 4.8810\n",
      "Epoch 28/100\n",
      "\u001b[1m2677/2677\u001b[0m \u001b[32m━━━━━━━━━━━━━━━━━━━━\u001b[0m\u001b[37m\u001b[0m \u001b[1m34s\u001b[0m 13ms/step - accuracy: 0.1344 - loss: 4.8575\n",
      "Epoch 29/100\n",
      "\u001b[1m2677/2677\u001b[0m \u001b[32m━━━━━━━━━━━━━━━━━━━━\u001b[0m\u001b[37m\u001b[0m \u001b[1m34s\u001b[0m 13ms/step - accuracy: 0.1350 - loss: 4.8398\n",
      "Epoch 30/100\n",
      "\u001b[1m2677/2677\u001b[0m \u001b[32m━━━━━━━━━━━━━━━━━━━━\u001b[0m\u001b[37m\u001b[0m \u001b[1m34s\u001b[0m 13ms/step - accuracy: 0.1359 - loss: 4.8169\n",
      "Epoch 31/100\n",
      "\u001b[1m2677/2677\u001b[0m \u001b[32m━━━━━━━━━━━━━━━━━━━━\u001b[0m\u001b[37m\u001b[0m \u001b[1m34s\u001b[0m 13ms/step - accuracy: 0.1375 - loss: 4.7986\n",
      "Epoch 32/100\n",
      "\u001b[1m2677/2677\u001b[0m \u001b[32m━━━━━━━━━━━━━━━━━━━━\u001b[0m\u001b[37m\u001b[0m \u001b[1m34s\u001b[0m 13ms/step - accuracy: 0.1397 - loss: 4.7851\n",
      "Epoch 33/100\n",
      "\u001b[1m2677/2677\u001b[0m \u001b[32m━━━━━━━━━━━━━━━━━━━━\u001b[0m\u001b[37m\u001b[0m \u001b[1m34s\u001b[0m 13ms/step - accuracy: 0.1398 - loss: 4.7591\n",
      "Epoch 34/100\n",
      "\u001b[1m2677/2677\u001b[0m \u001b[32m━━━━━━━━━━━━━━━━━━━━\u001b[0m\u001b[37m\u001b[0m \u001b[1m34s\u001b[0m 13ms/step - accuracy: 0.1412 - loss: 4.7418\n",
      "Epoch 35/100\n",
      "\u001b[1m2677/2677\u001b[0m \u001b[32m━━━━━━━━━━━━━━━━━━━━\u001b[0m\u001b[37m\u001b[0m \u001b[1m34s\u001b[0m 13ms/step - accuracy: 0.1420 - loss: 4.7402\n",
      "Epoch 36/100\n",
      "\u001b[1m2677/2677\u001b[0m \u001b[32m━━━━━━━━━━━━━━━━━━━━\u001b[0m\u001b[37m\u001b[0m \u001b[1m34s\u001b[0m 13ms/step - accuracy: 0.1427 - loss: 4.7260\n",
      "Epoch 37/100\n",
      "\u001b[1m2677/2677\u001b[0m \u001b[32m━━━━━━━━━━━━━━━━━━━━\u001b[0m\u001b[37m\u001b[0m \u001b[1m34s\u001b[0m 13ms/step - accuracy: 0.1437 - loss: 4.6979\n",
      "Epoch 38/100\n",
      "\u001b[1m2677/2677\u001b[0m \u001b[32m━━━━━━━━━━━━━━━━━━━━\u001b[0m\u001b[37m\u001b[0m \u001b[1m34s\u001b[0m 13ms/step - accuracy: 0.1467 - loss: 4.6822\n",
      "Epoch 39/100\n",
      "\u001b[1m2677/2677\u001b[0m \u001b[32m━━━━━━━━━━━━━━━━━━━━\u001b[0m\u001b[37m\u001b[0m \u001b[1m34s\u001b[0m 13ms/step - accuracy: 0.1481 - loss: 4.6732\n",
      "Epoch 40/100\n",
      "\u001b[1m2677/2677\u001b[0m \u001b[32m━━━━━━━━━━━━━━━━━━━━\u001b[0m\u001b[37m\u001b[0m \u001b[1m34s\u001b[0m 13ms/step - accuracy: 0.1492 - loss: 4.6533\n",
      "Epoch 41/100\n",
      "\u001b[1m2677/2677\u001b[0m \u001b[32m━━━━━━━━━━━━━━━━━━━━\u001b[0m\u001b[37m\u001b[0m \u001b[1m34s\u001b[0m 13ms/step - accuracy: 0.1504 - loss: 4.6473\n",
      "Epoch 42/100\n",
      "\u001b[1m2677/2677\u001b[0m \u001b[32m━━━━━━━━━━━━━━━━━━━━\u001b[0m\u001b[37m\u001b[0m \u001b[1m34s\u001b[0m 13ms/step - accuracy: 0.1512 - loss: 4.6214\n",
      "Epoch 43/100\n",
      "\u001b[1m2677/2677\u001b[0m \u001b[32m━━━━━━━━━━━━━━━━━━━━\u001b[0m\u001b[37m\u001b[0m \u001b[1m34s\u001b[0m 13ms/step - accuracy: 0.1529 - loss: 4.6120\n",
      "Epoch 44/100\n",
      "\u001b[1m2677/2677\u001b[0m \u001b[32m━━━━━━━━━━━━━━━━━━━━\u001b[0m\u001b[37m\u001b[0m \u001b[1m34s\u001b[0m 13ms/step - accuracy: 0.1531 - loss: 4.6111\n",
      "Epoch 45/100\n",
      "\u001b[1m2677/2677\u001b[0m \u001b[32m━━━━━━━━━━━━━━━━━━━━\u001b[0m\u001b[37m\u001b[0m \u001b[1m34s\u001b[0m 13ms/step - accuracy: 0.1546 - loss: 4.5909\n",
      "Epoch 46/100\n",
      "\u001b[1m2677/2677\u001b[0m \u001b[32m━━━━━━━━━━━━━━━━━━━━\u001b[0m\u001b[37m\u001b[0m \u001b[1m34s\u001b[0m 13ms/step - accuracy: 0.1563 - loss: 4.5841\n",
      "Epoch 47/100\n",
      "\u001b[1m2677/2677\u001b[0m \u001b[32m━━━━━━━━━━━━━━━━━━━━\u001b[0m\u001b[37m\u001b[0m \u001b[1m34s\u001b[0m 13ms/step - accuracy: 0.1558 - loss: 4.5701\n",
      "Epoch 48/100\n",
      "\u001b[1m2677/2677\u001b[0m \u001b[32m━━━━━━━━━━━━━━━━━━━━\u001b[0m\u001b[37m\u001b[0m \u001b[1m34s\u001b[0m 13ms/step - accuracy: 0.1581 - loss: 4.5587\n",
      "Epoch 49/100\n",
      "\u001b[1m2677/2677\u001b[0m \u001b[32m━━━━━━━━━━━━━━━━━━━━\u001b[0m\u001b[37m\u001b[0m \u001b[1m34s\u001b[0m 13ms/step - accuracy: 0.1589 - loss: 4.5450\n",
      "Epoch 50/100\n",
      "\u001b[1m2677/2677\u001b[0m \u001b[32m━━━━━━━━━━━━━━━━━━━━\u001b[0m\u001b[37m\u001b[0m \u001b[1m34s\u001b[0m 13ms/step - accuracy: 0.1590 - loss: 4.5285\n",
      "Epoch 51/100\n",
      "\u001b[1m2677/2677\u001b[0m \u001b[32m━━━━━━━━━━━━━━━━━━━━\u001b[0m\u001b[37m\u001b[0m \u001b[1m34s\u001b[0m 13ms/step - accuracy: 0.1614 - loss: 4.5218\n",
      "Epoch 52/100\n",
      "\u001b[1m2677/2677\u001b[0m \u001b[32m━━━━━━━━━━━━━━━━━━━━\u001b[0m\u001b[37m\u001b[0m \u001b[1m34s\u001b[0m 13ms/step - accuracy: 0.1620 - loss: 4.5069\n",
      "Epoch 53/100\n",
      "\u001b[1m2677/2677\u001b[0m \u001b[32m━━━━━━━━━━━━━━━━━━━━\u001b[0m\u001b[37m\u001b[0m \u001b[1m34s\u001b[0m 13ms/step - accuracy: 0.1619 - loss: 4.5094\n",
      "Epoch 54/100\n",
      "\u001b[1m2677/2677\u001b[0m \u001b[32m━━━━━━━━━━━━━━━━━━━━\u001b[0m\u001b[37m\u001b[0m \u001b[1m34s\u001b[0m 13ms/step - accuracy: 0.1637 - loss: 4.5011\n",
      "Epoch 55/100\n",
      "\u001b[1m2677/2677\u001b[0m \u001b[32m━━━━━━━━━━━━━━━━━━━━\u001b[0m\u001b[37m\u001b[0m \u001b[1m34s\u001b[0m 13ms/step - accuracy: 0.1642 - loss: 4.4855\n",
      "Epoch 56/100\n",
      "\u001b[1m2677/2677\u001b[0m \u001b[32m━━━━━━━━━━━━━━━━━━━━\u001b[0m\u001b[37m\u001b[0m \u001b[1m34s\u001b[0m 13ms/step - accuracy: 0.1650 - loss: 4.4840\n",
      "Epoch 57/100\n",
      "\u001b[1m2677/2677\u001b[0m \u001b[32m━━━━━━━━━━━━━━━━━━━━\u001b[0m\u001b[37m\u001b[0m \u001b[1m34s\u001b[0m 13ms/step - accuracy: 0.1652 - loss: 4.4740\n",
      "Epoch 58/100\n",
      "\u001b[1m2677/2677\u001b[0m \u001b[32m━━━━━━━━━━━━━━━━━━━━\u001b[0m\u001b[37m\u001b[0m \u001b[1m34s\u001b[0m 13ms/step - accuracy: 0.1677 - loss: 4.4625\n",
      "Epoch 59/100\n",
      "\u001b[1m2677/2677\u001b[0m \u001b[32m━━━━━━━━━━━━━━━━━━━━\u001b[0m\u001b[37m\u001b[0m \u001b[1m34s\u001b[0m 13ms/step - accuracy: 0.1675 - loss: 4.4597\n",
      "Epoch 60/100\n",
      "\u001b[1m2677/2677\u001b[0m \u001b[32m━━━━━━━━━━━━━━━━━━━━\u001b[0m\u001b[37m\u001b[0m \u001b[1m34s\u001b[0m 13ms/step - accuracy: 0.1679 - loss: 4.4481\n",
      "Epoch 61/100\n",
      "\u001b[1m2677/2677\u001b[0m \u001b[32m━━━━━━━━━━━━━━━━━━━━\u001b[0m\u001b[37m\u001b[0m \u001b[1m34s\u001b[0m 13ms/step - accuracy: 0.1692 - loss: 4.4362\n",
      "Epoch 62/100\n",
      "\u001b[1m2677/2677\u001b[0m \u001b[32m━━━━━━━━━━━━━━━━━━━━\u001b[0m\u001b[37m\u001b[0m \u001b[1m34s\u001b[0m 13ms/step - accuracy: 0.1704 - loss: 4.4458\n",
      "Epoch 63/100\n",
      "\u001b[1m2677/2677\u001b[0m \u001b[32m━━━━━━━━━━━━━━━━━━━━\u001b[0m\u001b[37m\u001b[0m \u001b[1m34s\u001b[0m 13ms/step - accuracy: 0.1708 - loss: 4.4387\n",
      "Epoch 64/100\n",
      "\u001b[1m2677/2677\u001b[0m \u001b[32m━━━━━━━━━━━━━━━━━━━━\u001b[0m\u001b[37m\u001b[0m \u001b[1m34s\u001b[0m 13ms/step - accuracy: 0.1723 - loss: 4.4255\n",
      "Epoch 65/100\n",
      "\u001b[1m2677/2677\u001b[0m \u001b[32m━━━━━━━━━━━━━━━━━━━━\u001b[0m\u001b[37m\u001b[0m \u001b[1m34s\u001b[0m 13ms/step - accuracy: 0.1713 - loss: 4.4259\n",
      "Epoch 66/100\n",
      "\u001b[1m2677/2677\u001b[0m \u001b[32m━━━━━━━━━━━━━━━━━━━━\u001b[0m\u001b[37m\u001b[0m \u001b[1m34s\u001b[0m 13ms/step - accuracy: 0.1744 - loss: 4.4162\n",
      "Epoch 67/100\n",
      "\u001b[1m2677/2677\u001b[0m \u001b[32m━━━━━━━━━━━━━━━━━━━━\u001b[0m\u001b[37m\u001b[0m \u001b[1m34s\u001b[0m 13ms/step - accuracy: 0.1743 - loss: 4.4103\n",
      "Epoch 68/100\n",
      "\u001b[1m2677/2677\u001b[0m \u001b[32m━━━━━━━━━━━━━━━━━━━━\u001b[0m\u001b[37m\u001b[0m \u001b[1m34s\u001b[0m 13ms/step - accuracy: 0.1740 - loss: 4.4026\n",
      "Epoch 69/100\n",
      "\u001b[1m2677/2677\u001b[0m \u001b[32m━━━━━━━━━━━━━━━━━━━━\u001b[0m\u001b[37m\u001b[0m \u001b[1m34s\u001b[0m 13ms/step - accuracy: 0.1760 - loss: 4.3988\n",
      "Epoch 70/100\n",
      "\u001b[1m2677/2677\u001b[0m \u001b[32m━━━━━━━━━━━━━━━━━━━━\u001b[0m\u001b[37m\u001b[0m \u001b[1m34s\u001b[0m 13ms/step - accuracy: 0.1761 - loss: 4.3946\n",
      "Epoch 71/100\n",
      "\u001b[1m2677/2677\u001b[0m \u001b[32m━━━━━━━━━━━━━━━━━━━━\u001b[0m\u001b[37m\u001b[0m \u001b[1m35s\u001b[0m 13ms/step - accuracy: 0.1780 - loss: 4.3919\n",
      "Epoch 72/100\n",
      "\u001b[1m2677/2677\u001b[0m \u001b[32m━━━━━━━━━━━━━━━━━━━━\u001b[0m\u001b[37m\u001b[0m \u001b[1m34s\u001b[0m 13ms/step - accuracy: 0.1772 - loss: 4.3964\n",
      "Epoch 73/100\n",
      "\u001b[1m2677/2677\u001b[0m \u001b[32m━━━━━━━━━━━━━━━━━━━━\u001b[0m\u001b[37m\u001b[0m \u001b[1m34s\u001b[0m 13ms/step - accuracy: 0.1771 - loss: 4.3913\n",
      "Epoch 74/100\n",
      "\u001b[1m2677/2677\u001b[0m \u001b[32m━━━━━━━━━━━━━━━━━━━━\u001b[0m\u001b[37m\u001b[0m \u001b[1m34s\u001b[0m 13ms/step - accuracy: 0.1795 - loss: 4.3638\n",
      "Epoch 75/100\n",
      "\u001b[1m2677/2677\u001b[0m \u001b[32m━━━━━━━━━━━━━━━━━━━━\u001b[0m\u001b[37m\u001b[0m \u001b[1m34s\u001b[0m 13ms/step - accuracy: 0.1800 - loss: 4.3659\n",
      "Epoch 76/100\n",
      "\u001b[1m2677/2677\u001b[0m \u001b[32m━━━━━━━━━━━━━━━━━━━━\u001b[0m\u001b[37m\u001b[0m \u001b[1m34s\u001b[0m 13ms/step - accuracy: 0.1814 - loss: 4.3622\n",
      "Epoch 77/100\n",
      "\u001b[1m2677/2677\u001b[0m \u001b[32m━━━━━━━━━━━━━━━━━━━━\u001b[0m\u001b[37m\u001b[0m \u001b[1m34s\u001b[0m 13ms/step - accuracy: 0.1831 - loss: 4.3496\n",
      "Epoch 78/100\n",
      "\u001b[1m2677/2677\u001b[0m \u001b[32m━━━━━━━━━━━━━━━━━━━━\u001b[0m\u001b[37m\u001b[0m \u001b[1m34s\u001b[0m 13ms/step - accuracy: 0.1820 - loss: 4.3407\n",
      "Epoch 79/100\n",
      "\u001b[1m2677/2677\u001b[0m \u001b[32m━━━━━━━━━━━━━━━━━━━━\u001b[0m\u001b[37m\u001b[0m \u001b[1m34s\u001b[0m 13ms/step - accuracy: 0.1827 - loss: 4.3371\n",
      "Epoch 80/100\n",
      "\u001b[1m2677/2677\u001b[0m \u001b[32m━━━━━━━━━━━━━━━━━━━━\u001b[0m\u001b[37m\u001b[0m \u001b[1m34s\u001b[0m 13ms/step - accuracy: 0.1840 - loss: 4.3203\n",
      "Epoch 81/100\n",
      "\u001b[1m2677/2677\u001b[0m \u001b[32m━━━━━━━━━━━━━━━━━━━━\u001b[0m\u001b[37m\u001b[0m \u001b[1m34s\u001b[0m 13ms/step - accuracy: 0.1851 - loss: 4.3191\n",
      "Epoch 82/100\n",
      "\u001b[1m2677/2677\u001b[0m \u001b[32m━━━━━━━━━━━━━━━━━━━━\u001b[0m\u001b[37m\u001b[0m \u001b[1m34s\u001b[0m 13ms/step - accuracy: 0.1855 - loss: 4.3123\n",
      "Epoch 83/100\n",
      "\u001b[1m2677/2677\u001b[0m \u001b[32m━━━━━━━━━━━━━━━━━━━━\u001b[0m\u001b[37m\u001b[0m \u001b[1m34s\u001b[0m 13ms/step - accuracy: 0.1841 - loss: 4.3023\n",
      "Epoch 84/100\n",
      "\u001b[1m2677/2677\u001b[0m \u001b[32m━━━━━━━━━━━━━━━━━━━━\u001b[0m\u001b[37m\u001b[0m \u001b[1m34s\u001b[0m 13ms/step - accuracy: 0.1863 - loss: 4.3057\n",
      "Epoch 85/100\n",
      "\u001b[1m2677/2677\u001b[0m \u001b[32m━━━━━━━━━━━━━━━━━━━━\u001b[0m\u001b[37m\u001b[0m \u001b[1m34s\u001b[0m 13ms/step - accuracy: 0.1880 - loss: 4.2853\n",
      "Epoch 86/100\n",
      "\u001b[1m2677/2677\u001b[0m \u001b[32m━━━━━━━━━━━━━━━━━━━━\u001b[0m\u001b[37m\u001b[0m \u001b[1m34s\u001b[0m 13ms/step - accuracy: 0.1872 - loss: 4.2959\n",
      "Epoch 87/100\n",
      "\u001b[1m2677/2677\u001b[0m \u001b[32m━━━━━━━━━━━━━━━━━━━━\u001b[0m\u001b[37m\u001b[0m \u001b[1m34s\u001b[0m 13ms/step - accuracy: 0.1879 - loss: 4.2877\n",
      "Epoch 88/100\n",
      "\u001b[1m2677/2677\u001b[0m \u001b[32m━━━━━━━━━━━━━━━━━━━━\u001b[0m\u001b[37m\u001b[0m \u001b[1m34s\u001b[0m 13ms/step - accuracy: 0.1895 - loss: 4.2780\n",
      "Epoch 89/100\n",
      "\u001b[1m2677/2677\u001b[0m \u001b[32m━━━━━━━━━━━━━━━━━━━━\u001b[0m\u001b[37m\u001b[0m \u001b[1m34s\u001b[0m 13ms/step - accuracy: 0.1878 - loss: 4.2819\n",
      "Epoch 90/100\n",
      "\u001b[1m2677/2677\u001b[0m \u001b[32m━━━━━━━━━━━━━━━━━━━━\u001b[0m\u001b[37m\u001b[0m \u001b[1m34s\u001b[0m 13ms/step - accuracy: 0.1913 - loss: 4.2762\n",
      "Epoch 91/100\n",
      "\u001b[1m2677/2677\u001b[0m \u001b[32m━━━━━━━━━━━━━━━━━━━━\u001b[0m\u001b[37m\u001b[0m \u001b[1m34s\u001b[0m 13ms/step - accuracy: 0.1907 - loss: 4.2680\n",
      "Epoch 92/100\n",
      "\u001b[1m2677/2677\u001b[0m \u001b[32m━━━━━━━━━━━━━━━━━━━━\u001b[0m\u001b[37m\u001b[0m \u001b[1m34s\u001b[0m 13ms/step - accuracy: 0.1916 - loss: 4.2505\n",
      "Epoch 93/100\n",
      "\u001b[1m2677/2677\u001b[0m \u001b[32m━━━━━━━━━━━━━━━━━━━━\u001b[0m\u001b[37m\u001b[0m \u001b[1m34s\u001b[0m 13ms/step - accuracy: 0.1922 - loss: 4.2606\n",
      "Epoch 94/100\n",
      "\u001b[1m2677/2677\u001b[0m \u001b[32m━━━━━━━━━━━━━━━━━━━━\u001b[0m\u001b[37m\u001b[0m \u001b[1m34s\u001b[0m 13ms/step - accuracy: 0.1933 - loss: 4.2335\n",
      "Epoch 95/100\n",
      "\u001b[1m2677/2677\u001b[0m \u001b[32m━━━━━━━━━━━━━━━━━━━━\u001b[0m\u001b[37m\u001b[0m \u001b[1m34s\u001b[0m 13ms/step - accuracy: 0.1931 - loss: 4.2504\n",
      "Epoch 96/100\n",
      "\u001b[1m2677/2677\u001b[0m \u001b[32m━━━━━━━━━━━━━━━━━━━━\u001b[0m\u001b[37m\u001b[0m \u001b[1m34s\u001b[0m 13ms/step - accuracy: 0.1936 - loss: 4.2444\n",
      "Epoch 97/100\n",
      "\u001b[1m2677/2677\u001b[0m \u001b[32m━━━━━━━━━━━━━━━━━━━━\u001b[0m\u001b[37m\u001b[0m \u001b[1m34s\u001b[0m 13ms/step - accuracy: 0.1932 - loss: 4.2279\n",
      "Epoch 98/100\n",
      "\u001b[1m2677/2677\u001b[0m \u001b[32m━━━━━━━━━━━━━━━━━━━━\u001b[0m\u001b[37m\u001b[0m \u001b[1m34s\u001b[0m 13ms/step - accuracy: 0.1951 - loss: 4.2237\n",
      "Epoch 99/100\n",
      "\u001b[1m2677/2677\u001b[0m \u001b[32m━━━━━━━━━━━━━━━━━━━━\u001b[0m\u001b[37m\u001b[0m \u001b[1m34s\u001b[0m 13ms/step - accuracy: 0.1945 - loss: 4.2235\n",
      "Epoch 100/100\n",
      "\u001b[1m2677/2677\u001b[0m \u001b[32m━━━━━━━━━━━━━━━━━━━━\u001b[0m\u001b[37m\u001b[0m \u001b[1m34s\u001b[0m 13ms/step - accuracy: 0.1963 - loss: 4.2141\n",
      "\u001b[1m5354/5354\u001b[0m \u001b[32m━━━━━━━━━━━━━━━━━━━━\u001b[0m\u001b[37m\u001b[0m \u001b[1m30s\u001b[0m 5ms/step - accuracy: 0.2267 - loss: 4.3977\n",
      "Acc:  0.22658073902130127\n",
      "Model and tokenizer saved successfully!\n"
     ]
    }
   ],
   "source": [
    "from keras.models import *\n",
    "from keras.layers import *\n",
    "model = Sequential([\n",
    "    Embedding(total_words, 200, input_length=max_seq_len-1),   \n",
    "    LSTM(256, return_sequences=True),\n",
    "    Dropout(0.3),\n",
    "    LSTM(128),\n",
    "    Dropout(0.3),\n",
    "    Dense(256, activation=\"relu\"),\n",
    "    Dropout(0.3),\n",
    "    Dense(total_words, activation=\"softmax\")\n",
    "])\n",
    "model.compile(optimizer=\"adam\",loss=\"categorical_crossentropy\",metrics=['accuracy'])\n",
    "model.summary()\n",
    "from keras.callbacks import EarlyStopping\n",
    "early_stop = EarlyStopping(monitor='loss', patience=5, restore_best_weights=True)\n",
    "history = model.fit(X, y, batch_size=64, epochs=100, verbose=1, callbacks=[early_stop])\n",
    "\n",
    "loss,acc=model.evaluate(X,y)\n",
    "print(\"Acc: \",acc)\n",
    "\n",
    "model.save(\"Next_word.h5\")\n",
    "print(\"Model and tokenizer saved successfully!\")"
   ]
  },
  {
   "cell_type": "code",
   "execution_count": 7,
   "id": "33d69bb8",
   "metadata": {
    "execution": {
     "iopub.execute_input": "2025-09-25T16:36:19.778399Z",
     "iopub.status.busy": "2025-09-25T16:36:19.778081Z",
     "iopub.status.idle": "2025-09-25T16:36:19.783193Z",
     "shell.execute_reply": "2025-09-25T16:36:19.782631Z"
    },
    "papermill": {
     "duration": 2.985221,
     "end_time": "2025-09-25T16:36:19.784406",
     "exception": false,
     "start_time": "2025-09-25T16:36:16.799185",
     "status": "completed"
    },
    "tags": []
   },
   "outputs": [],
   "source": [
    "def predict_next_word(seed_text, next_words=100):\n",
    "    \"\"\"Generate next words for a given seed text.\"\"\"\n",
    "    for _ in range(next_words):\n",
    "        token_list = tokenizer.texts_to_sequences(seed_text.split())\n",
    "        token_list = [t[0] for t in token_list if t]\n",
    "        token_list = pad_sequences([token_list], maxlen=max_seq_len-1, padding='pre')\n",
    "        predicted_index = np.argmax(model.predict(token_list, verbose=0), axis=1)[0]\n",
    "        output_word = index_to_word.get(predicted_index, \"\")\n",
    "        seed_text += \" \" + output_word\n",
    "    return seed_text\n",
    "\n"
   ]
  },
  {
   "cell_type": "code",
   "execution_count": 8,
   "id": "39a3c3e2",
   "metadata": {
    "execution": {
     "iopub.execute_input": "2025-09-25T16:36:25.748390Z",
     "iopub.status.busy": "2025-09-25T16:36:25.748072Z",
     "iopub.status.idle": "2025-09-25T16:36:32.743195Z",
     "shell.execute_reply": "2025-09-25T16:36:32.742362Z"
    },
    "papermill": {
     "duration": 9.977345,
     "end_time": "2025-09-25T16:36:32.744413",
     "exception": false,
     "start_time": "2025-09-25T16:36:22.767068",
     "status": "completed"
    },
    "tags": []
   },
   "outputs": [
    {
     "name": "stdout",
     "output_type": "stream",
     "text": [
      "Generated Text:\n",
      " We are accounted one of you to london and i am not so much used to make the feast of her old babes of changing day and dried at the world whereon the duke of hereford i have you not to be a man of the next man i am wont to die and the duke of the yoke of changing time to be a man and the duke of somerset of the gods join'd on him to be brief and that the man is not so laid them to the duke of the fourth denial or not not not so much reasons\n"
     ]
    }
   ],
   "source": [
    "test_seed = \"We are accounted\"\n",
    "generated_text = predict_next_word(test_seed, next_words=100)\n",
    "print(\"Generated Text:\\n\", generated_text)"
   ]
  }
 ],
 "metadata": {
  "kaggle": {
   "accelerator": "nvidiaTeslaT4",
   "dataSources": [],
   "dockerImageVersionId": 31090,
   "isGpuEnabled": true,
   "isInternetEnabled": true,
   "language": "python",
   "sourceType": "notebook"
  },
  "kernelspec": {
   "display_name": "Python 3",
   "language": "python",
   "name": "python3"
  },
  "language_info": {
   "codemirror_mode": {
    "name": "ipython",
    "version": 3
   },
   "file_extension": ".py",
   "mimetype": "text/x-python",
   "name": "python",
   "nbconvert_exporter": "python",
   "pygments_lexer": "ipython3",
   "version": "3.11.13"
  },
  "papermill": {
   "default_parameters": {},
   "duration": 3547.892723,
   "end_time": "2025-09-25T16:36:39.066686",
   "environment_variables": {},
   "exception": null,
   "input_path": "__notebook__.ipynb",
   "output_path": "__notebook__.ipynb",
   "parameters": {},
   "start_time": "2025-09-25T15:37:31.173963",
   "version": "2.6.0"
  }
 },
 "nbformat": 4,
 "nbformat_minor": 5
}
